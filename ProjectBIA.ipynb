{
  "nbformat": 4,
  "nbformat_minor": 0,
  "metadata": {
    "colab": {
      "name": "ProjectBIA.ipynb",
      "provenance": [],
      "mount_file_id": "1m1TahXdrRCLcJiO2dJCJ-7ykMakRsvtF",
      "authorship_tag": "ABX9TyOvuSNj2wM4uCXUamSl2aVn",
      "include_colab_link": true
    },
    "kernelspec": {
      "name": "python3",
      "display_name": "Python 3"
    },
    "language_info": {
      "name": "python"
    }
  },
  "cells": [
    {
      "cell_type": "markdown",
      "metadata": {
        "id": "view-in-github",
        "colab_type": "text"
      },
      "source": [
        "<a href=\"https://colab.research.google.com/github/Sanjanathakal/BIA-678/blob/master/ProjectBIA.ipynb\" target=\"_parent\"><img src=\"https://colab.research.google.com/assets/colab-badge.svg\" alt=\"Open In Colab\"/></a>"
      ]
    },
    {
      "cell_type": "markdown",
      "metadata": {
        "id": "K15NeNhbh_CH"
      },
      "source": [
        "Uploading data from the drive :"
      ]
    },
    {
      "cell_type": "code",
      "metadata": {
        "colab": {
          "base_uri": "https://localhost:8080/"
        },
        "id": "Deze3G0iiJQP",
        "outputId": "3e006d5e-9c1f-4ae8-be35-c41c59d12b31"
      },
      "source": [
        "from google.colab import drive\n",
        "drive.mount('/content/drive')"
      ],
      "execution_count": null,
      "outputs": [
        {
          "output_type": "stream",
          "name": "stdout",
          "text": [
            "Drive already mounted at /content/drive; to attempt to forcibly remount, call drive.mount(\"/content/drive\", force_remount=True).\n"
          ]
        }
      ]
    },
    {
      "cell_type": "markdown",
      "metadata": {
        "id": "9JidQHekh3fI"
      },
      "source": [
        "Importing Required Libraries: "
      ]
    },
    {
      "cell_type": "code",
      "metadata": {
        "id": "FR5L6KxRZEge"
      },
      "source": [
        "import pandas as pd\n",
        "import numpy as np\n",
        "import matplotlib as mpl\n",
        "import matplotlib.pyplot as plt\n",
        "import seaborn as sns\n",
        "import missingno as msno\n",
        "import tensorflow as tf\n",
        "from tensorflow.keras import layers\n",
        "from tensorflow.keras.models import Model\n",
        "from tensorflow.keras.layers import Input, Embedding, Dot, Add, Flatten\n",
        "from tensorflow.keras.regularizers import l2\n",
        "from tensorflow.keras.optimizers import SGD, Adam, Adamax\n"
      ],
      "execution_count": null,
      "outputs": []
    },
    {
      "cell_type": "markdown",
      "metadata": {
        "id": "-qwfYqc9lwX-"
      },
      "source": [
        "Importing training and testing csv : "
      ]
    },
    {
      "cell_type": "code",
      "metadata": {
        "id": "-gqZ3UNNlR4X",
        "colab": {
          "base_uri": "https://localhost:8080/",
          "height": 204
        },
        "outputId": "c379544a-57a8-4be5-c409-d9046f960934"
      },
      "source": [
        "Train_data=pd.read_csv(\"/content/drive/MyDrive/BIA PROJECT /DATA/newTraindata.csv\")\n",
        "Test_data = pd.read_csv(\"/content/drive/MyDrive/BIA PROJECT /DATA/newtestdata.csv\")\n",
        "\n",
        "Train_data.head()\n",
        "Test_data.head()"
      ],
      "execution_count": null,
      "outputs": [
        {
          "output_type": "execute_result",
          "data": {
            "text/html": [
              "<div>\n",
              "<style scoped>\n",
              "    .dataframe tbody tr th:only-of-type {\n",
              "        vertical-align: middle;\n",
              "    }\n",
              "\n",
              "    .dataframe tbody tr th {\n",
              "        vertical-align: top;\n",
              "    }\n",
              "\n",
              "    .dataframe thead th {\n",
              "        text-align: right;\n",
              "    }\n",
              "</style>\n",
              "<table border=\"1\" class=\"dataframe\">\n",
              "  <thead>\n",
              "    <tr style=\"text-align: right;\">\n",
              "      <th></th>\n",
              "      <th>Unnamed: 0</th>\n",
              "      <th>customer_id</th>\n",
              "      <th>id</th>\n",
              "      <th>vendor_rating</th>\n",
              "    </tr>\n",
              "  </thead>\n",
              "  <tbody>\n",
              "    <tr>\n",
              "      <th>0</th>\n",
              "      <td>0</td>\n",
              "      <td>ICE2DJP</td>\n",
              "      <td>4.0</td>\n",
              "      <td>4.4</td>\n",
              "    </tr>\n",
              "    <tr>\n",
              "      <th>1</th>\n",
              "      <td>1</td>\n",
              "      <td>ICE2DJP</td>\n",
              "      <td>13.0</td>\n",
              "      <td>4.7</td>\n",
              "    </tr>\n",
              "    <tr>\n",
              "      <th>2</th>\n",
              "      <td>2</td>\n",
              "      <td>ICE2DJP</td>\n",
              "      <td>20.0</td>\n",
              "      <td>4.5</td>\n",
              "    </tr>\n",
              "    <tr>\n",
              "      <th>3</th>\n",
              "      <td>3</td>\n",
              "      <td>ICE2DJP</td>\n",
              "      <td>23.0</td>\n",
              "      <td>4.5</td>\n",
              "    </tr>\n",
              "    <tr>\n",
              "      <th>4</th>\n",
              "      <td>4</td>\n",
              "      <td>ICE2DJP</td>\n",
              "      <td>28.0</td>\n",
              "      <td>4.4</td>\n",
              "    </tr>\n",
              "  </tbody>\n",
              "</table>\n",
              "</div>"
            ],
            "text/plain": [
              "   Unnamed: 0 customer_id    id  vendor_rating\n",
              "0           0     ICE2DJP   4.0            4.4\n",
              "1           1     ICE2DJP  13.0            4.7\n",
              "2           2     ICE2DJP  20.0            4.5\n",
              "3           3     ICE2DJP  23.0            4.5\n",
              "4           4     ICE2DJP  28.0            4.4"
            ]
          },
          "metadata": {},
          "execution_count": 3
        }
      ]
    },
    {
      "cell_type": "code",
      "metadata": {
        "id": "xePQ3xKijaqs",
        "colab": {
          "base_uri": "https://localhost:8080/",
          "height": 204
        },
        "outputId": "d84c8919-36fb-4404-eae9-f623db63921f"
      },
      "source": [
        "Train_data.head()"
      ],
      "execution_count": null,
      "outputs": [
        {
          "output_type": "execute_result",
          "data": {
            "text/html": [
              "<div>\n",
              "<style scoped>\n",
              "    .dataframe tbody tr th:only-of-type {\n",
              "        vertical-align: middle;\n",
              "    }\n",
              "\n",
              "    .dataframe tbody tr th {\n",
              "        vertical-align: top;\n",
              "    }\n",
              "\n",
              "    .dataframe thead th {\n",
              "        text-align: right;\n",
              "    }\n",
              "</style>\n",
              "<table border=\"1\" class=\"dataframe\">\n",
              "  <thead>\n",
              "    <tr style=\"text-align: right;\">\n",
              "      <th></th>\n",
              "      <th>Unnamed: 0</th>\n",
              "      <th>customer_id</th>\n",
              "      <th>id</th>\n",
              "      <th>vendor_rating</th>\n",
              "    </tr>\n",
              "  </thead>\n",
              "  <tbody>\n",
              "    <tr>\n",
              "      <th>0</th>\n",
              "      <td>0</td>\n",
              "      <td>TCHWPBT</td>\n",
              "      <td>4</td>\n",
              "      <td>4.4</td>\n",
              "    </tr>\n",
              "    <tr>\n",
              "      <th>1</th>\n",
              "      <td>1</td>\n",
              "      <td>TCHWPBT</td>\n",
              "      <td>13</td>\n",
              "      <td>4.7</td>\n",
              "    </tr>\n",
              "    <tr>\n",
              "      <th>2</th>\n",
              "      <td>2</td>\n",
              "      <td>TCHWPBT</td>\n",
              "      <td>20</td>\n",
              "      <td>4.5</td>\n",
              "    </tr>\n",
              "    <tr>\n",
              "      <th>3</th>\n",
              "      <td>3</td>\n",
              "      <td>TCHWPBT</td>\n",
              "      <td>23</td>\n",
              "      <td>4.5</td>\n",
              "    </tr>\n",
              "    <tr>\n",
              "      <th>4</th>\n",
              "      <td>4</td>\n",
              "      <td>TCHWPBT</td>\n",
              "      <td>28</td>\n",
              "      <td>4.4</td>\n",
              "    </tr>\n",
              "  </tbody>\n",
              "</table>\n",
              "</div>"
            ],
            "text/plain": [
              "   Unnamed: 0 customer_id  id  vendor_rating\n",
              "0           0     TCHWPBT   4            4.4\n",
              "1           1     TCHWPBT  13            4.7\n",
              "2           2     TCHWPBT  20            4.5\n",
              "3           3     TCHWPBT  23            4.5\n",
              "4           4     TCHWPBT  28            4.4"
            ]
          },
          "metadata": {},
          "execution_count": 4
        }
      ]
    },
    {
      "cell_type": "code",
      "metadata": {
        "colab": {
          "base_uri": "https://localhost:8080/",
          "height": 419
        },
        "id": "cpZBhSbHc8GX",
        "outputId": "2be73b87-8846-4b44-f8bc-68e6ccbe1476"
      },
      "source": [
        "Train_data[['customer_id','id','vendor_rating']]"
      ],
      "execution_count": null,
      "outputs": [
        {
          "output_type": "execute_result",
          "data": {
            "text/html": [
              "<div>\n",
              "<style scoped>\n",
              "    .dataframe tbody tr th:only-of-type {\n",
              "        vertical-align: middle;\n",
              "    }\n",
              "\n",
              "    .dataframe tbody tr th {\n",
              "        vertical-align: top;\n",
              "    }\n",
              "\n",
              "    .dataframe thead th {\n",
              "        text-align: right;\n",
              "    }\n",
              "</style>\n",
              "<table border=\"1\" class=\"dataframe\">\n",
              "  <thead>\n",
              "    <tr style=\"text-align: right;\">\n",
              "      <th></th>\n",
              "      <th>customer_id</th>\n",
              "      <th>id</th>\n",
              "      <th>vendor_rating</th>\n",
              "    </tr>\n",
              "  </thead>\n",
              "  <tbody>\n",
              "    <tr>\n",
              "      <th>0</th>\n",
              "      <td>TCHWPBT</td>\n",
              "      <td>4</td>\n",
              "      <td>4.4</td>\n",
              "    </tr>\n",
              "    <tr>\n",
              "      <th>1</th>\n",
              "      <td>TCHWPBT</td>\n",
              "      <td>13</td>\n",
              "      <td>4.7</td>\n",
              "    </tr>\n",
              "    <tr>\n",
              "      <th>2</th>\n",
              "      <td>TCHWPBT</td>\n",
              "      <td>20</td>\n",
              "      <td>4.5</td>\n",
              "    </tr>\n",
              "    <tr>\n",
              "      <th>3</th>\n",
              "      <td>TCHWPBT</td>\n",
              "      <td>23</td>\n",
              "      <td>4.5</td>\n",
              "    </tr>\n",
              "    <tr>\n",
              "      <th>4</th>\n",
              "      <td>TCHWPBT</td>\n",
              "      <td>28</td>\n",
              "      <td>4.4</td>\n",
              "    </tr>\n",
              "    <tr>\n",
              "      <th>...</th>\n",
              "      <td>...</td>\n",
              "      <td>...</td>\n",
              "      <td>...</td>\n",
              "    </tr>\n",
              "    <tr>\n",
              "      <th>5802395</th>\n",
              "      <td>LBMRK7A</td>\n",
              "      <td>849</td>\n",
              "      <td>4.1</td>\n",
              "    </tr>\n",
              "    <tr>\n",
              "      <th>5802396</th>\n",
              "      <td>LBMRK7A</td>\n",
              "      <td>855</td>\n",
              "      <td>4.2</td>\n",
              "    </tr>\n",
              "    <tr>\n",
              "      <th>5802397</th>\n",
              "      <td>LBMRK7A</td>\n",
              "      <td>856</td>\n",
              "      <td>4.3</td>\n",
              "    </tr>\n",
              "    <tr>\n",
              "      <th>5802398</th>\n",
              "      <td>LBMRK7A</td>\n",
              "      <td>858</td>\n",
              "      <td>4.2</td>\n",
              "    </tr>\n",
              "    <tr>\n",
              "      <th>5802399</th>\n",
              "      <td>LBMRK7A</td>\n",
              "      <td>907</td>\n",
              "      <td>4.3</td>\n",
              "    </tr>\n",
              "  </tbody>\n",
              "</table>\n",
              "<p>5802400 rows × 3 columns</p>\n",
              "</div>"
            ],
            "text/plain": [
              "        customer_id   id  vendor_rating\n",
              "0           TCHWPBT    4            4.4\n",
              "1           TCHWPBT   13            4.7\n",
              "2           TCHWPBT   20            4.5\n",
              "3           TCHWPBT   23            4.5\n",
              "4           TCHWPBT   28            4.4\n",
              "...             ...  ...            ...\n",
              "5802395     LBMRK7A  849            4.1\n",
              "5802396     LBMRK7A  855            4.2\n",
              "5802397     LBMRK7A  856            4.3\n",
              "5802398     LBMRK7A  858            4.2\n",
              "5802399     LBMRK7A  907            4.3\n",
              "\n",
              "[5802400 rows x 3 columns]"
            ]
          },
          "metadata": {},
          "execution_count": 5
        }
      ]
    },
    {
      "cell_type": "code",
      "metadata": {
        "colab": {
          "base_uri": "https://localhost:8080/",
          "height": 419
        },
        "id": "spzamC3Zd_FV",
        "outputId": "ecc173f9-78fb-421d-a308-4412b7a5b0ab"
      },
      "source": [
        "Test_data[['customer_id','id','vendor_rating']]"
      ],
      "execution_count": null,
      "outputs": [
        {
          "output_type": "execute_result",
          "data": {
            "text/html": [
              "<div>\n",
              "<style scoped>\n",
              "    .dataframe tbody tr th:only-of-type {\n",
              "        vertical-align: middle;\n",
              "    }\n",
              "\n",
              "    .dataframe tbody tr th {\n",
              "        vertical-align: top;\n",
              "    }\n",
              "\n",
              "    .dataframe thead th {\n",
              "        text-align: right;\n",
              "    }\n",
              "</style>\n",
              "<table border=\"1\" class=\"dataframe\">\n",
              "  <thead>\n",
              "    <tr style=\"text-align: right;\">\n",
              "      <th></th>\n",
              "      <th>customer_id</th>\n",
              "      <th>id</th>\n",
              "      <th>vendor_rating</th>\n",
              "    </tr>\n",
              "  </thead>\n",
              "  <tbody>\n",
              "    <tr>\n",
              "      <th>0</th>\n",
              "      <td>ICE2DJP</td>\n",
              "      <td>4.0</td>\n",
              "      <td>4.4</td>\n",
              "    </tr>\n",
              "    <tr>\n",
              "      <th>1</th>\n",
              "      <td>ICE2DJP</td>\n",
              "      <td>13.0</td>\n",
              "      <td>4.7</td>\n",
              "    </tr>\n",
              "    <tr>\n",
              "      <th>2</th>\n",
              "      <td>ICE2DJP</td>\n",
              "      <td>20.0</td>\n",
              "      <td>4.5</td>\n",
              "    </tr>\n",
              "    <tr>\n",
              "      <th>3</th>\n",
              "      <td>ICE2DJP</td>\n",
              "      <td>23.0</td>\n",
              "      <td>4.5</td>\n",
              "    </tr>\n",
              "    <tr>\n",
              "      <th>4</th>\n",
              "      <td>ICE2DJP</td>\n",
              "      <td>28.0</td>\n",
              "      <td>4.4</td>\n",
              "    </tr>\n",
              "    <tr>\n",
              "      <th>...</th>\n",
              "      <td>...</td>\n",
              "      <td>...</td>\n",
              "      <td>...</td>\n",
              "    </tr>\n",
              "    <tr>\n",
              "      <th>1671995</th>\n",
              "      <td>NaN</td>\n",
              "      <td>NaN</td>\n",
              "      <td>NaN</td>\n",
              "    </tr>\n",
              "    <tr>\n",
              "      <th>1671996</th>\n",
              "      <td>NaN</td>\n",
              "      <td>NaN</td>\n",
              "      <td>NaN</td>\n",
              "    </tr>\n",
              "    <tr>\n",
              "      <th>1671997</th>\n",
              "      <td>NaN</td>\n",
              "      <td>NaN</td>\n",
              "      <td>NaN</td>\n",
              "    </tr>\n",
              "    <tr>\n",
              "      <th>1671998</th>\n",
              "      <td>NaN</td>\n",
              "      <td>NaN</td>\n",
              "      <td>NaN</td>\n",
              "    </tr>\n",
              "    <tr>\n",
              "      <th>1671999</th>\n",
              "      <td>NaN</td>\n",
              "      <td>NaN</td>\n",
              "      <td>NaN</td>\n",
              "    </tr>\n",
              "  </tbody>\n",
              "</table>\n",
              "<p>1672000 rows × 3 columns</p>\n",
              "</div>"
            ],
            "text/plain": [
              "        customer_id    id  vendor_rating\n",
              "0           ICE2DJP   4.0            4.4\n",
              "1           ICE2DJP  13.0            4.7\n",
              "2           ICE2DJP  20.0            4.5\n",
              "3           ICE2DJP  23.0            4.5\n",
              "4           ICE2DJP  28.0            4.4\n",
              "...             ...   ...            ...\n",
              "1671995         NaN   NaN            NaN\n",
              "1671996         NaN   NaN            NaN\n",
              "1671997         NaN   NaN            NaN\n",
              "1671998         NaN   NaN            NaN\n",
              "1671999         NaN   NaN            NaN\n",
              "\n",
              "[1672000 rows x 3 columns]"
            ]
          },
          "metadata": {},
          "execution_count": 6
        }
      ]
    },
    {
      "cell_type": "code",
      "metadata": {
        "colab": {
          "base_uri": "https://localhost:8080/"
        },
        "id": "1h0PnzX8ePEW",
        "outputId": "556a95d4-7042-41bd-b517-c3d2b353daad"
      },
      "source": [
        "resturants = Train_data['id'].unique()\n",
        "print(len(resturants))\n",
        "print(resturants)"
      ],
      "execution_count": null,
      "outputs": [
        {
          "output_type": "stream",
          "name": "stdout",
          "text": [
            "100\n",
            "[  4  13  20  23  28  33  43  44  55  66  67  75  76  78  79  81  82  83\n",
            "  84  85  86  90  92 104 105 106 110 113 115 134 145 148 149 154 157 159\n",
            " 160 161 176 180 188 189 191 192 193 195 196 197 199 201 203 207 216 221\n",
            " 225 231 237 243 250 259 265 271 274 288 289 294 295 298 299 300 303 304\n",
            " 310 356 386 391 398 401 419 459 537 547 573 575 577 578 582 583 676 679\n",
            " 681 841 843 845 846 849 855 856 858 907]\n"
          ]
        }
      ]
    },
    {
      "cell_type": "code",
      "metadata": {
        "colab": {
          "base_uri": "https://localhost:8080/"
        },
        "id": "JoSbsI5FewPQ",
        "outputId": "77d83619-8a62-48c8-c328-24c68919fe3e"
      },
      "source": [
        "users = Train_data['customer_id'].unique()\n",
        "print(len(users))\n",
        "print(users)"
      ],
      "execution_count": null,
      "outputs": [
        {
          "output_type": "stream",
          "name": "stdout",
          "text": [
            "34523\n",
            "['TCHWPBT' 'ZGFSYCZ' 'S2ALZFL' ... 'SQMJ08H' '9LW9CHN' 'LBMRK7A']\n"
          ]
        }
      ]
    },
    {
      "cell_type": "code",
      "metadata": {
        "id": "xol9s32Pkdpw"
      },
      "source": [
        "data = pd.DataFrame(Train_data,columns= [['customer_id','id','vendor_rating']])"
      ],
      "execution_count": null,
      "outputs": []
    },
    {
      "cell_type": "code",
      "metadata": {
        "id": "FmmlkSzQhgPR"
      },
      "source": [
        "import numpy as np\n",
        "import pandas as pd\n",
        "from scipy.linalg import sqrtm\n",
        "def create_utility_matrix(data, formatizer = {'user':0, 'Resturant': 1, 'Rating': 2}):\n",
        "    \"\"\"\n",
        "        :param data:      Array-like, 2D, nx3\n",
        "        :param formatizer:pass the formatizer\n",
        "        :return:          utility matrix (n x m), n=users, m=items\n",
        "    \"\"\"\n",
        "        \n",
        "    ResturantField = formatizer['Resturant']\n",
        "    userField = formatizer['user']\n",
        "    RatingField = formatizer['Rating']\n",
        "    \n",
        "    userList = data.iloc[:,userField].tolist()\n",
        "    ResturantList = data.iloc[:,ResturantField].tolist()\n",
        "    RatingList = data.iloc[:,RatingField].tolist()\n",
        "    \n",
        "    users = list(set(data.iloc[:,userField]))\n",
        "    Resturants = list(set(data.iloc[:,ResturantField]))\n",
        "    \n",
        "    users_index = {users[i]: i for i in range(len(users))}\n",
        "    \n",
        "    pd_dict = {Resturant: [np.nan for i in range(len(users))] for Resturant in Resturants}\n",
        "    \n",
        "    for i in range(0,len(data)):\n",
        "        Resturant = ResturantList[i]\n",
        "        user = userList[i]\n",
        "        Rating = RatingList[i]\n",
        "    \n",
        "    pd_dict[Resturant][users_index[user]] = Rating\n",
        "    \n",
        "    X = pd.DataFrame(pd_dict)\n",
        "    X.index = users\n",
        "        \n",
        "    Resturantcols = list(X.columns)\n",
        "    Resturant_index = {Resturantcols[i]: i for i in range(len(Resturantcols))}\n",
        "    # users_index gives us a mapping of user_id to index of user\n",
        "    # Resturants_index provides the same for Resturants\n",
        "    return X, users_index, Resturant_index"
      ],
      "execution_count": null,
      "outputs": []
    },
    {
      "cell_type": "code",
      "metadata": {
        "id": "Qowlo_DiW0gE"
      },
      "source": [
        "def svd(train, k):\n",
        "\n",
        "    utilMat = np.array(train)\n",
        "  \n",
        "    # the nan or unavailable entries are masked\n",
        "    mask = np.isnan(utilMat)\n",
        "    masked_arr = np.ma.masked_array(utilMat, mask)\n",
        "    item_means = np.mean(masked_arr, axis=0)\n",
        "  \n",
        "    # nan entries will replaced by the average rating for each item\n",
        "    utilMat = masked_arr.filled(item_means)\n",
        "    x = np.tile(item_means, (utilMat.shape[0],1))\n",
        "  \n",
        "    # we remove the per item average from all entries.\n",
        "  \n",
        "    # the above mentioned nan entries will be essentially zero now\n",
        "    utilMat = utilMat - x\n",
        "  \n",
        "    # The magic happens here. U and V are user and item features\n",
        "    U, s, V=np.linalg.svd(utilMat, full_matrices=False)\n",
        "    s=np.diag(s)\n",
        "  \n",
        "    # we take only the k most significant features\n",
        "    s=s[0:k,0:k]\n",
        "    U=U[:,0:k]\n",
        "    V=V[0:k,:]\n",
        "  \n",
        "    s_root=sqrtm(s)\n",
        "  \n",
        "    Usk=np.dot(U,s_root)\n",
        "    skV=np.dot(s_root,V)\n",
        "    UsV = np.dot(Usk, skV)\n",
        "    UsV = UsV + x\n",
        "  \n",
        "    print(\"svd done\")\n",
        "  \n",
        "    return UsV"
      ],
      "execution_count": null,
      "outputs": []
    },
    {
      "cell_type": "code",
      "metadata": {
        "id": "NXb0NJ31YBWz"
      },
      "source": [
        "def rmse(true, pred):\n",
        "\n",
        "    # this will be used towards the end\n",
        "    x = true - pred\n",
        "    return sum([xi*xi for xi in x])/len(x)\n",
        "\n",
        "# to test the performance over a different number of features\n",
        "no_of_features = [8,10,12,14,17]\n",
        "\n",
        "utilMat, users_index, items_index = create_utility_matrix(train)\n",
        "\n",
        "for f in no_of_features: \n",
        "    svdout = svd(utilMat, k=f)\n",
        "    pred = [] #to store the predicted ratings\n",
        "\n",
        "    for _,row in test.iterrows():\n",
        "        user = row['userId']\n",
        "        item = row['VendorId']\n",
        "\n",
        "        u_index = users_index[user]\n",
        "        if item in items_index:\n",
        "            i_index = items_index[item]\n",
        "            pred_rating = svdout[u_index, i_index]\n",
        "        else:\n",
        "            pred_rating = np.mean(svdout[u_index, :])\n",
        "        pred.append(pred_rating)\n",
        "\n",
        "print(rmse(test['rating'], pred))"
      ],
      "execution_count": null,
      "outputs": []
    }
  ]
}